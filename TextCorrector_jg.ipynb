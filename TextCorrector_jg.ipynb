{
  "nbformat": 4,
  "nbformat_minor": 0,
  "metadata": {
    "colab": {
      "name": "TextCorrector-jg.ipynb",
      "version": "0.3.2",
      "provenance": [],
      "collapsed_sections": [],
      "include_colab_link": true
    },
    "language_info": {
      "codemirror_mode": {
        "name": "ipython",
        "version": 2
      },
      "file_extension": ".py",
      "mimetype": "text/x-python",
      "name": "python",
      "nbconvert_exporter": "python",
      "pygments_lexer": "ipython2",
      "version": "2.7.11"
    },
    "kernelspec": {
      "display_name": "Python 2",
      "language": "python",
      "name": "python2"
    }
  },
  "cells": [
    {
      "cell_type": "markdown",
      "metadata": {
        "id": "view-in-github",
        "colab_type": "text"
      },
      "source": [
        "<a href=\"https://colab.research.google.com/github/jgoodrich77/deep-text-corrector/blob/master/TextCorrector_jg.ipynb\" target=\"_parent\"><img src=\"https://colab.research.google.com/assets/colab-badge.svg\" alt=\"Open In Colab\"/></a>"
      ]
    },
    {
      "metadata": {
        "id": "MY6BqH_06A6u",
        "colab_type": "text"
      },
      "cell_type": "markdown",
      "source": [
        "Start with moving to directory and then setting up environment"
      ]
    },
    {
      "metadata": {
        "id": "QJYk7EOm5981",
        "colab_type": "code",
        "colab": {}
      },
      "cell_type": "code",
      "source": [
        "!cd ~/"
      ],
      "execution_count": 0,
      "outputs": []
    },
    {
      "metadata": {
        "id": "R5u0AXgu5kyD",
        "colab_type": "text"
      },
      "cell_type": "markdown",
      "source": [
        "Clone repository into colab"
      ]
    },
    {
      "metadata": {
        "id": "LITDmWXW5ZkL",
        "colab_type": "code",
        "colab": {
          "base_uri": "https://localhost:8080/",
          "height": 139
        },
        "outputId": "0988d38b-b001-401b-daae-7c1c5e7dbb97"
      },
      "cell_type": "code",
      "source": [
        "!git clone https://github.com/jgoodrich77/deep-text-corrector.git"
      ],
      "execution_count": 19,
      "outputs": [
        {
          "output_type": "stream",
          "text": [
            "Cloning into 'deep-text-corrector'...\n",
            "remote: Enumerating objects: 8, done.\u001b[K\n",
            "remote: Counting objects:  12% (1/8)   \u001b[K\rremote: Counting objects:  25% (2/8)   \u001b[K\rremote: Counting objects:  37% (3/8)   \u001b[K\rremote: Counting objects:  50% (4/8)   \u001b[K\rremote: Counting objects:  62% (5/8)   \u001b[K\rremote: Counting objects:  75% (6/8)   \u001b[K\rremote: Counting objects:  87% (7/8)   \u001b[K\rremote: Counting objects: 100% (8/8)   \u001b[K\rremote: Counting objects: 100% (8/8), done.\u001b[K\n",
            "remote: Compressing objects:  12% (1/8)   \u001b[K\rremote: Compressing objects:  25% (2/8)   \u001b[K\rremote: Compressing objects:  37% (3/8)   \u001b[K\rremote: Compressing objects:  50% (4/8)   \u001b[K\rremote: Compressing objects:  62% (5/8)   \u001b[K\rremote: Compressing objects:  75% (6/8)   \u001b[K\rremote: Compressing objects:  87% (7/8)   \u001b[K\rremote: Compressing objects: 100% (8/8)   \u001b[K\rremote: Compressing objects: 100% (8/8), done.\u001b[K\n",
            "Receiving objects:   0% (1/130)   \rReceiving objects:   1% (2/130)   \rReceiving objects:   2% (3/130)   \rReceiving objects:   3% (4/130)   \rReceiving objects:   4% (6/130)   \rReceiving objects:   5% (7/130)   \rReceiving objects:   6% (8/130)   \rReceiving objects:   7% (10/130)   \rReceiving objects:   8% (11/130)   \rReceiving objects:   9% (12/130)   \rReceiving objects:  10% (13/130)   \rReceiving objects:  11% (15/130)   \rReceiving objects:  12% (16/130)   \rReceiving objects:  13% (17/130)   \rReceiving objects:  14% (19/130)   \rReceiving objects:  15% (20/130)   \rReceiving objects:  16% (21/130)   \rReceiving objects:  17% (23/130)   \rReceiving objects:  18% (24/130)   \rReceiving objects:  19% (25/130)   \rReceiving objects:  20% (26/130)   \rReceiving objects:  21% (28/130)   \rReceiving objects:  22% (29/130)   \rReceiving objects:  23% (30/130)   \rReceiving objects:  24% (32/130)   \rReceiving objects:  25% (33/130)   \rReceiving objects:  26% (34/130)   \rReceiving objects:  27% (36/130)   \rReceiving objects:  28% (37/130)   \rReceiving objects:  29% (38/130)   \rReceiving objects:  30% (39/130)   \rReceiving objects:  31% (41/130)   \rReceiving objects:  32% (42/130)   \rReceiving objects:  33% (43/130)   \rReceiving objects:  34% (45/130)   \rReceiving objects:  35% (46/130)   \rReceiving objects:  36% (47/130)   \rReceiving objects:  37% (49/130)   \rReceiving objects:  38% (50/130)   \rReceiving objects:  39% (51/130)   \rReceiving objects:  40% (52/130)   \rReceiving objects:  41% (54/130)   \rReceiving objects:  42% (55/130)   \rReceiving objects:  43% (56/130)   \rReceiving objects:  44% (58/130)   \rReceiving objects:  45% (59/130)   \rReceiving objects:  46% (60/130)   \rReceiving objects:  47% (62/130)   \rReceiving objects:  48% (63/130)   \rReceiving objects:  49% (64/130)   \rReceiving objects:  50% (65/130)   \rReceiving objects:  51% (67/130)   \rReceiving objects:  52% (68/130)   \rReceiving objects:  53% (69/130)   \rReceiving objects:  54% (71/130)   \rReceiving objects:  55% (72/130)   \rReceiving objects:  56% (73/130)   \rremote: Total 130 (delta 2), reused 0 (delta 0), pack-reused 122\u001b[K\n",
            "Receiving objects:  57% (75/130)   \rReceiving objects:  58% (76/130)   \rReceiving objects:  59% (77/130)   \rReceiving objects:  60% (78/130)   \rReceiving objects:  61% (80/130)   \rReceiving objects:  62% (81/130)   \rReceiving objects:  63% (82/130)   \rReceiving objects:  64% (84/130)   \rReceiving objects:  65% (85/130)   \rReceiving objects:  66% (86/130)   \rReceiving objects:  67% (88/130)   \rReceiving objects:  68% (89/130)   \rReceiving objects:  69% (90/130)   \rReceiving objects:  70% (91/130)   \rReceiving objects:  71% (93/130)   \rReceiving objects:  72% (94/130)   \rReceiving objects:  73% (95/130)   \rReceiving objects:  74% (97/130)   \rReceiving objects:  75% (98/130)   \rReceiving objects:  76% (99/130)   \rReceiving objects:  77% (101/130)   \rReceiving objects:  78% (102/130)   \rReceiving objects:  79% (103/130)   \rReceiving objects:  80% (104/130)   \rReceiving objects:  81% (106/130)   \rReceiving objects:  82% (107/130)   \rReceiving objects:  83% (108/130)   \rReceiving objects:  84% (110/130)   \rReceiving objects:  85% (111/130)   \rReceiving objects:  86% (112/130)   \rReceiving objects:  87% (114/130)   \rReceiving objects:  88% (115/130)   \rReceiving objects:  89% (116/130)   \rReceiving objects:  90% (117/130)   \rReceiving objects:  91% (119/130)   \rReceiving objects:  92% (120/130)   \rReceiving objects:  93% (121/130)   \rReceiving objects:  94% (123/130)   \rReceiving objects:  95% (124/130)   \rReceiving objects:  96% (125/130)   \rReceiving objects:  97% (127/130)   \rReceiving objects:  98% (128/130)   \rReceiving objects:  99% (129/130)   \rReceiving objects: 100% (130/130)   \rReceiving objects: 100% (130/130), 297.15 KiB | 9.90 MiB/s, done.\n",
            "Resolving deltas:   0% (0/70)   \rResolving deltas:   2% (2/70)   \rResolving deltas:  11% (8/70)   \rResolving deltas:  12% (9/70)   \rResolving deltas:  15% (11/70)   \rResolving deltas:  21% (15/70)   \rResolving deltas:  24% (17/70)   \rResolving deltas:  48% (34/70)   \rResolving deltas:  54% (38/70)   \rResolving deltas:  65% (46/70)   \rResolving deltas:  77% (54/70)   \rResolving deltas:  78% (55/70)   \rResolving deltas:  88% (62/70)   \rResolving deltas:  90% (63/70)   \rResolving deltas:  91% (64/70)   \rResolving deltas:  95% (67/70)   \rResolving deltas: 100% (70/70)   \rResolving deltas: 100% (70/70), done.\n"
          ],
          "name": "stdout"
        }
      ]
    },
    {
      "metadata": {
        "id": "JRIQDLSlBqbU",
        "colab_type": "text"
      },
      "cell_type": "markdown",
      "source": [
        "Move into the directory"
      ]
    },
    {
      "metadata": {
        "id": "cyIv-6MnAsI_",
        "colab_type": "code",
        "colab": {}
      },
      "cell_type": "code",
      "source": [
        "!cd /content/deep-text-corrector"
      ],
      "execution_count": 0,
      "outputs": []
    },
    {
      "metadata": {
        "id": "Wswpsy3R5S8J",
        "colab_type": "text"
      },
      "cell_type": "markdown",
      "source": [
        "Install requirements"
      ]
    },
    {
      "metadata": {
        "id": "DcuQBlWe5JNx",
        "colab_type": "code",
        "colab": {
          "base_uri": "https://localhost:8080/",
          "height": 34
        },
        "outputId": "f6df811f-91d8-48b2-8a1c-3cf8d18cd7fe"
      },
      "cell_type": "code",
      "source": [
        "!pip3 install -r requirements.txt"
      ],
      "execution_count": 24,
      "outputs": [
        {
          "output_type": "stream",
          "text": [
            "\u001b[31mCould not open requirements file: [Errno 2] No such file or directory: 'requirements.txt'\u001b[0m\n"
          ],
          "name": "stdout"
        }
      ]
    },
    {
      "metadata": {
        "id": "V2NSjxYZBPBL",
        "colab_type": "code",
        "colab": {}
      },
      "cell_type": "code",
      "source": [
        "!rm -rf /content/deep-text-corrector"
      ],
      "execution_count": 0,
      "outputs": []
    },
    {
      "metadata": {
        "id": "9SzVv0iSBUrq",
        "colab_type": "code",
        "colab": {}
      },
      "cell_type": "code",
      "source": [
        "!ls -lta"
      ],
      "execution_count": 0,
      "outputs": []
    },
    {
      "metadata": {
        "id": "tPla6qV8A0V9",
        "colab_type": "code",
        "colab": {
          "base_uri": "https://localhost:8080/",
          "height": 34
        },
        "outputId": "266ac171-e091-441d-89db-ce4432871530"
      },
      "cell_type": "code",
      "source": [
        "!pwd"
      ],
      "execution_count": 22,
      "outputs": [
        {
          "output_type": "stream",
          "text": [
            "/content\n"
          ],
          "name": "stdout"
        }
      ]
    },
    {
      "metadata": {
        "id": "YVD2xZXr44h-",
        "colab_type": "code",
        "colab": {
          "base_uri": "https://localhost:8080/",
          "height": 394
        },
        "outputId": "1aab3322-7f09-418b-add6-4ff05123bec9"
      },
      "cell_type": "code",
      "source": [
        "from __future__ import print_function\n",
        "\n",
        "import os\n",
        "import time\n",
        "import numpy as np\n",
        "import tensorflow as tf\n",
        "import pandas as pd\n",
        "from collections import defaultdict\n",
        "\n",
        "from sklearn.metrics import roc_auc_score, accuracy_score\n",
        "import nltk\n",
        "\n",
        "from correct_text import train, decode, decode_sentence, evaluate_accuracy, create_model,\\\n",
        "    get_corrective_tokens, DefaultPTBConfig, DefaultMovieDialogConfig\n",
        "from text_correcter_data_readers import PTBDataReader, MovieDialogReader\n",
        "\n",
        "%matplotlib inline"
      ],
      "execution_count": 7,
      "outputs": [
        {
          "output_type": "error",
          "ename": "ImportError",
          "evalue": "ignored",
          "traceback": [
            "\u001b[0;31m\u001b[0m",
            "\u001b[0;31mImportError\u001b[0mTraceback (most recent call last)",
            "\u001b[0;32m<ipython-input-7-7d0f67dc9750>\u001b[0m in \u001b[0;36m<module>\u001b[0;34m()\u001b[0m\n\u001b[1;32m     11\u001b[0m \u001b[0;32mimport\u001b[0m \u001b[0mnltk\u001b[0m\u001b[0;34m\u001b[0m\u001b[0m\n\u001b[1;32m     12\u001b[0m \u001b[0;34m\u001b[0m\u001b[0m\n\u001b[0;32m---> 13\u001b[0;31m \u001b[0;32mfrom\u001b[0m \u001b[0mcorrect_text\u001b[0m \u001b[0;32mimport\u001b[0m \u001b[0mtrain\u001b[0m\u001b[0;34m,\u001b[0m \u001b[0mdecode\u001b[0m\u001b[0;34m,\u001b[0m \u001b[0mdecode_sentence\u001b[0m\u001b[0;34m,\u001b[0m \u001b[0mevaluate_accuracy\u001b[0m\u001b[0;34m,\u001b[0m \u001b[0mcreate_model\u001b[0m\u001b[0;34m,\u001b[0m    \u001b[0mget_corrective_tokens\u001b[0m\u001b[0;34m,\u001b[0m \u001b[0mDefaultPTBConfig\u001b[0m\u001b[0;34m,\u001b[0m \u001b[0mDefaultMovieDialogConfig\u001b[0m\u001b[0;34m\u001b[0m\u001b[0m\n\u001b[0m\u001b[1;32m     14\u001b[0m \u001b[0;32mfrom\u001b[0m \u001b[0mtext_correcter_data_readers\u001b[0m \u001b[0;32mimport\u001b[0m \u001b[0mPTBDataReader\u001b[0m\u001b[0;34m,\u001b[0m \u001b[0mMovieDialogReader\u001b[0m\u001b[0;34m\u001b[0m\u001b[0m\n\u001b[1;32m     15\u001b[0m \u001b[0;34m\u001b[0m\u001b[0m\n",
            "\u001b[0;31mImportError\u001b[0m: No module named correct_text",
            "",
            "\u001b[0;31m---------------------------------------------------------------------------\u001b[0;32m\nNOTE: If your import is failing due to a missing package, you can\nmanually install dependencies using either !pip or !apt.\n\nTo view examples of installing some common dependencies, click the\n\"Open Examples\" button below.\n\u001b[0;31m---------------------------------------------------------------------------\u001b[0m\n"
          ]
        }
      ]
    },
    {
      "metadata": {
        "id": "6YlcUgd744iP",
        "colab_type": "code",
        "colab": {}
      },
      "cell_type": "code",
      "source": [
        "root_data_path = \"/Users/atpaino/data/textcorrecter/dialog_corpus\"\n",
        "train_path = os.path.join(root_data_path, \"movie_lines.txt\")\n",
        "val_path = os.path.join(root_data_path, \"cleaned_dialog_val.txt\")\n",
        "test_path = os.path.join(root_data_path, \"cleaned_dialog_test.txt\")\n",
        "model_path = os.path.join(root_data_path, \"dialog_correcter_model_testnltk\")\n",
        "config = DefaultMovieDialogConfig()"
      ],
      "execution_count": 0,
      "outputs": []
    },
    {
      "metadata": {
        "id": "per18MFl44iX",
        "colab_type": "text"
      },
      "cell_type": "markdown",
      "source": [
        "## Train"
      ]
    },
    {
      "metadata": {
        "id": "aonhg6oW44ic",
        "colab_type": "code",
        "colab": {}
      },
      "cell_type": "code",
      "source": [
        "data_reader = MovieDialogReader(config, train_path)"
      ],
      "execution_count": 0,
      "outputs": []
    },
    {
      "metadata": {
        "id": "YxE_D4mQ44iu",
        "colab_type": "code",
        "colab": {}
      },
      "cell_type": "code",
      "source": [
        "train(data_reader, train_path, val_path, model_path)"
      ],
      "execution_count": 0,
      "outputs": []
    },
    {
      "metadata": {
        "id": "VwTBYRGg44i6",
        "colab_type": "text"
      },
      "cell_type": "markdown",
      "source": [
        "## Decode sentences"
      ]
    },
    {
      "metadata": {
        "id": "veq3fJki44i9",
        "colab_type": "code",
        "colab": {}
      },
      "cell_type": "code",
      "source": [
        "data_reader = MovieDialogReader(config, train_path, dropout_prob=0.25, replacement_prob=0.25, dataset_copies=1)"
      ],
      "execution_count": 0,
      "outputs": []
    },
    {
      "metadata": {
        "id": "dKAVQEz344jD",
        "colab_type": "code",
        "colab": {}
      },
      "cell_type": "code",
      "source": [
        "corrective_tokens = get_corrective_tokens(data_reader, train_path)"
      ],
      "execution_count": 0,
      "outputs": []
    },
    {
      "metadata": {
        "id": "2UCnRs2y44jK",
        "colab_type": "code",
        "colab": {}
      },
      "cell_type": "code",
      "source": [
        "import pickle\n",
        "with open(os.path.join(root_data_path, \"corrective_tokens.pickle\"), \"w\") as f:\n",
        "    pickle.dump(corrective_tokens, f)"
      ],
      "execution_count": 0,
      "outputs": []
    },
    {
      "metadata": {
        "id": "AHNuj9I-44jV",
        "colab_type": "code",
        "colab": {}
      },
      "cell_type": "code",
      "source": [
        "import pickle\n",
        "with open(os.path.join(root_data_path, \"token_to_id.pickle\"), \"w\") as f:\n",
        "    pickle.dump(data_reader.token_to_id, f)"
      ],
      "execution_count": 0,
      "outputs": []
    },
    {
      "metadata": {
        "id": "686blZw_44jh",
        "colab_type": "code",
        "colab": {}
      },
      "cell_type": "code",
      "source": [
        "sess = tf.InteractiveSession()\n",
        "model = create_model(sess, True, model_path, config=config)"
      ],
      "execution_count": 0,
      "outputs": []
    },
    {
      "metadata": {
        "scrolled": false,
        "id": "osAwc58644jz",
        "colab_type": "code",
        "colab": {}
      },
      "cell_type": "code",
      "source": [
        "# Test a sample from the test dataset.\n",
        "decoded = decode_sentence(sess, model, data_reader, \"you must have girlfriend\", corrective_tokens=corrective_tokens)"
      ],
      "execution_count": 0,
      "outputs": []
    },
    {
      "metadata": {
        "id": "dQLw4kWn44j8",
        "colab_type": "code",
        "colab": {}
      },
      "cell_type": "code",
      "source": [
        "decoded"
      ],
      "execution_count": 0,
      "outputs": []
    },
    {
      "metadata": {
        "id": "FyPTA1uB44kG",
        "colab_type": "code",
        "colab": {}
      },
      "cell_type": "code",
      "source": [
        "decoded = decode_sentence(sess, model, data_reader,\n",
        "                          \"did n't you say that they 're going to develop this revolutionary new thing ...\",\n",
        "                          corrective_tokens=corrective_tokens)"
      ],
      "execution_count": 0,
      "outputs": []
    },
    {
      "metadata": {
        "id": "7NAw-Mzi44kQ",
        "colab_type": "code",
        "colab": {}
      },
      "cell_type": "code",
      "source": [
        "decode_sentence(sess, model, data_reader, \"kvothe went to market\", corrective_tokens=corrective_tokens, verbose=False)"
      ],
      "execution_count": 0,
      "outputs": []
    },
    {
      "metadata": {
        "id": "roaVmcg344kY",
        "colab_type": "code",
        "colab": {}
      },
      "cell_type": "code",
      "source": [
        "decode_sentence(sess, model, data_reader, \"blablahblah and bladdddd went to market\", corrective_tokens=corrective_tokens,\n",
        "                verbose=False)"
      ],
      "execution_count": 0,
      "outputs": []
    },
    {
      "metadata": {
        "id": "UDWvZTNb44ki",
        "colab_type": "code",
        "colab": {}
      },
      "cell_type": "code",
      "source": [
        "decode_sentence(sess, model, data_reader, \"do you have book\", corrective_tokens=corrective_tokens, verbose=False)"
      ],
      "execution_count": 0,
      "outputs": []
    },
    {
      "metadata": {
        "id": "s-RJ4OyT44kq",
        "colab_type": "code",
        "colab": {}
      },
      "cell_type": "code",
      "source": [
        "decode_sentence(sess, model, data_reader, \"the cardinals did better then the cubs\", corrective_tokens=corrective_tokens, verbose=False)"
      ],
      "execution_count": 0,
      "outputs": []
    },
    {
      "metadata": {
        "id": "PWJVxQBq44k7",
        "colab_type": "code",
        "colab": {}
      },
      "cell_type": "code",
      "source": [
        "# 4 layers, 40k steps\n",
        "errors = evaluate_accuracy(sess, model, data_reader, corrective_tokens, test_path)#, max_samples=1000)"
      ],
      "execution_count": 0,
      "outputs": []
    },
    {
      "metadata": {
        "id": "SrIPWWVB44lM",
        "colab_type": "code",
        "colab": {}
      },
      "cell_type": "code",
      "source": [
        "# 4 layers, 30k steps\n",
        "errors = evaluate_accuracy(sess, model, data_reader, corrective_tokens, test_path)#, max_samples=1000)"
      ],
      "execution_count": 0,
      "outputs": []
    },
    {
      "metadata": {
        "id": "MHfmVBt944lZ",
        "colab_type": "code",
        "colab": {}
      },
      "cell_type": "code",
      "source": [
        "# 4 layers, 20k steps\n",
        "errors = evaluate_accuracy(sess, model, data_reader, corrective_tokens, test_path)#, max_samples=1000)"
      ],
      "execution_count": 0,
      "outputs": []
    },
    {
      "metadata": {
        "id": "anprGxpw44li",
        "colab_type": "code",
        "colab": {}
      },
      "cell_type": "code",
      "source": [
        "errors = evaluate_accuracy(sess, model, data_reader, corrective_tokens, test_path)#, max_samples=1000)"
      ],
      "execution_count": 0,
      "outputs": []
    },
    {
      "metadata": {
        "scrolled": false,
        "id": "izxD-Kd-44lq",
        "colab_type": "code",
        "colab": {}
      },
      "cell_type": "code",
      "source": [
        "for decoding, target in errors:\n",
        "    print(\"Decoding: \" + \" \".join(decoding))\n",
        "    print(\"Target:   \" + \" \".join(target) + \"\\n\")"
      ],
      "execution_count": 0,
      "outputs": []
    }
  ]
}